{
 "cells": [
  {
   "cell_type": "code",
   "execution_count": 1,
   "metadata": {},
   "outputs": [],
   "source": [
    "import json\n",
    "from pytorch_pretrained_bert import BertTokenizer,BertModel,BertForMaskedLM,BertForMultipleChoice\n",
    "import os\n",
    "import torch\n",
    "import numpy as np"
   ]
  },
  {
   "cell_type": "code",
   "execution_count": 28,
   "metadata": {},
   "outputs": [
    {
     "name": "stdout",
     "output_type": "stream",
     "text": [
      "----------------------------------------------------------------------------------------------------\n",
      "20\n",
      "Raw strings: ['generated', 'evolved', 'born', 'originated ']\n",
      "['generated', 'evolved', 'born', 'originated ']\n",
      "--------------------------------------------------\n",
      "Raw strings: ['valuable', 'appropriate', 'convenient', 'favorite ']\n",
      "['valuable', 'appropriate', 'convenient', 'favorite ']\n",
      "--------------------------------------------------\n",
      "Raw strings: ['attainments', 'feasibility', 'entertainments', 'evolution ']\n",
      "['attainments', 'feasibility', 'entertainments', 'evolution ']\n",
      "--------------------------------------------------\n",
      "Raw strings: ['essential', 'available', 'reliable', 'responsible ']\n",
      "['essential', 'available', 'reliable', 'responsible ']\n",
      "--------------------------------------------------\n",
      "Raw strings: ['confirm', 'inform', 'claim', 'convince ']\n",
      "['confirm', 'inform', 'claim', 'convince ']\n",
      "--------------------------------------------------\n",
      "Raw strings: ['for', 'from', 'of', 'with ']\n",
      "['for', 'from', 'of', 'with ']\n",
      "--------------------------------------------------\n",
      "Raw strings: ['organizations', 'organisms', 'humans', 'children ']\n",
      "['organizations', 'organisms', 'humans', 'children ']\n",
      "--------------------------------------------------\n",
      "Raw strings: ['potential', 'performance', 'preference', 'passion ']\n",
      "['potential', 'performance', 'preference', 'passion ']\n",
      "--------------------------------------------------\n",
      "Raw strings: ['as', 'justas', 'like', 'unlike ']\n",
      "['as', 'justas', 'like', 'unlike ']\n",
      "--------------------------------------------------\n",
      "Raw strings: ['ideological', 'biological', 'social', 'psychological ']\n",
      "['ideological', 'biological', 'social', 'psychological ']\n",
      "--------------------------------------------------\n",
      "Raw strings: ['reviews', 'reference', 'reaction', 'recommendation ']\n",
      "['reviews', 'reference', 'reaction', 'recommendation ']\n",
      "--------------------------------------------------\n",
      "Raw strings: ['In a word', 'In a sense', 'Indeed', 'In other words ']\n",
      "['In a word', 'In a sense', 'Indeed', 'In other words ']\n",
      "--------------------------------------------------\n",
      "Raw strings: ['various', 'different', 'the higher', 'thelower ']\n",
      "['various', 'different', 'the higher', 'thelower ']\n",
      "--------------------------------------------------\n",
      "Raw strings: ['revealed', 'exposed', 'engaged', 'involved ']\n",
      "['revealed', 'exposed', 'engaged', 'involved ']\n",
      "--------------------------------------------------\n",
      "Raw strings: ['regulations', 'formations', 'rules', 'constitutions ']\n",
      "['regulations', 'formations', 'rules', 'constitutions ']\n",
      "--------------------------------------------------\n",
      "Raw strings: ['Although', 'Whether', 'Since', 'When ']\n",
      "['Although', 'Whether', 'Since', 'When ']\n",
      "--------------------------------------------------\n",
      "Raw strings: ['distinguished', 'different', 'protected', 'isolated ']\n",
      "['distinguished', 'different', 'protected', 'isolated ']\n",
      "--------------------------------------------------\n",
      "Raw strings: ['exposition', 'comparison', 'contrast', 'interaction ']\n",
      "['exposition', 'comparison', 'contrast', 'interaction ']\n",
      "--------------------------------------------------\n",
      "Raw strings: ['acquisition', 'appreciation', 'requirement', 'alternative ']\n",
      "['acquisition', 'appreciation', 'requirement', 'alternative ']\n",
      "--------------------------------------------------\n",
      "Raw strings: ['As a result', 'After all', 'In other words', 'Above all']\n",
      "['As a result', 'After all', 'In other words', 'Above all']\n",
      "--------------------------------------------------\n"
     ]
    }
   ],
   "source": [
    "def DataNorn(file):\n",
    "\n",
    "    with open(file) as f:\n",
    "        line = f.readline()\n",
    "        s = json.loads(line)\n",
    "        article = s[\"article\"]\n",
    "        option = s[\"options\"]\n",
    "        answer = s[\"answers\"]\n",
    "\n",
    "        f.close()\n",
    "        \n",
    "\n",
    "#     article = article.replace('_', '[MASK]')\n",
    "#     articles = '[CLS] '\n",
    "#     for a in article:\n",
    "#         if (a == ',' or a ==\"\\\"\"):\n",
    "#             continue\n",
    "\n",
    "#         if (a == '.' or a == '!' or a == '?' or a == ':'):\n",
    "#             # articles = articles + ' [SEP]'\n",
    "#             continue\n",
    "#         articles += a\n",
    "#     answers = []\n",
    "#     for b in answer:\n",
    "#         b = ord(b) - ord('A')\n",
    "#         answers.append(b)\n",
    "#     debug = 1\n",
    "#     if(debug):\n",
    "#         print(articles, option, answers)\n",
    "    return articles,option,answers\n",
    "\n",
    "articles,option,answers = DataNorn('dev0004.json')\n",
    "\n",
    "print(100*'-')\n",
    "\n",
    "print(len(option))\n",
    "\n",
    "\n",
    "for i in option:\n",
    "    \n",
    "    strings = i\n",
    "\n",
    "    print(\"Raw strings:\" ,strings)\n",
    "    [x.strip(' ') for x in strings if x.strip(' ')]\n",
    "    \n",
    "    print(strings)\n",
    "        \n",
    "    print(50*'-')"
   ]
  },
  {
   "cell_type": "code",
   "execution_count": 27,
   "metadata": {},
   "outputs": [
    {
     "data": {
      "text/plain": [
       "['first', 'second', 'third', 'fouth']"
      ]
     },
     "execution_count": 27,
     "metadata": {},
     "output_type": "execute_result"
    }
   ],
   "source": [
    "strings = [\"first\", 'second ', \" third\",'fouth  ']\n",
    "[x.strip(' ') for x in strings if x.strip(' ')]"
   ]
  },
  {
   "cell_type": "code",
   "execution_count": null,
   "metadata": {},
   "outputs": [],
   "source": [
    "            "
   ]
  }
 ],
 "metadata": {
  "kernelspec": {
   "display_name": "Python 3",
   "language": "python",
   "name": "python3"
  },
  "language_info": {
   "codemirror_mode": {
    "name": "ipython",
    "version": 3
   },
   "file_extension": ".py",
   "mimetype": "text/x-python",
   "name": "python",
   "nbconvert_exporter": "python",
   "pygments_lexer": "ipython3",
   "version": "3.6.5"
  }
 },
 "nbformat": 4,
 "nbformat_minor": 2
}
