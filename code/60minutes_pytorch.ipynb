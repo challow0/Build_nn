{
 "cells": [
  {
   "cell_type": "code",
   "execution_count": 4,
   "metadata": {},
   "outputs": [],
   "source": [
    "from __future__ import print_function\n",
    "import torch"
   ]
  },
  {
   "cell_type": "markdown",
   "metadata": {},
   "source": [
    "## 1.构造一个未初始化的5x3矩阵："
   ]
  },
  {
   "cell_type": "code",
   "execution_count": 12,
   "metadata": {
    "scrolled": true
   },
   "outputs": [
    {
     "name": "stdout",
     "output_type": "stream",
     "text": [
      "tensor([[ 0.0454, -0.4670,  1.2718],\n",
      "        [ 0.9950,  0.5242, -0.3427],\n",
      "        [ 2.2475,  0.6522,  0.5677],\n",
      "        [ 1.5001,  1.2440,  0.5095],\n",
      "        [-0.9521, -0.7558, -0.9247]])\n"
     ]
    }
   ],
   "source": [
    "x = torch.empty(5, 3)\n",
    "\n",
    "print(x)"
   ]
  },
  {
   "cell_type": "markdown",
   "metadata": {},
   "source": [
    "## 2.构造一个随机初始化的矩阵"
   ]
  },
  {
   "cell_type": "code",
   "execution_count": 13,
   "metadata": {},
   "outputs": [
    {
     "name": "stdout",
     "output_type": "stream",
     "text": [
      "tensor([[0.3454, 0.6210, 0.2921],\n",
      "        [0.7734, 0.0915, 0.6098],\n",
      "        [0.2327, 0.4423, 0.6579],\n",
      "        [0.4242, 0.9831, 0.6646],\n",
      "        [0.8030, 0.2427, 0.3565]])\n"
     ]
    }
   ],
   "source": [
    "x = torch.rand(5, 3)\n",
    "\n",
    "print(x)"
   ]
  },
  {
   "cell_type": "markdown",
   "metadata": {},
   "source": [
    "## 3.构造一个填充零且dtype为long的矩阵："
   ]
  },
  {
   "cell_type": "code",
   "execution_count": 14,
   "metadata": {},
   "outputs": [
    {
     "name": "stdout",
     "output_type": "stream",
     "text": [
      "tensor([[0, 0, 0],\n",
      "        [0, 0, 0],\n",
      "        [0, 0, 0],\n",
      "        [0, 0, 0],\n",
      "        [0, 0, 0]])\n"
     ]
    }
   ],
   "source": [
    "x = torch.zeros(5, 3, dtype=torch.long)\n",
    "\n",
    "print(x)"
   ]
  },
  {
   "cell_type": "markdown",
   "metadata": {},
   "source": [
    "## 4.直接从数据构造张量"
   ]
  },
  {
   "cell_type": "code",
   "execution_count": 15,
   "metadata": {},
   "outputs": [
    {
     "name": "stdout",
     "output_type": "stream",
     "text": [
      "tensor([5.5000, 3.0000])\n"
     ]
    }
   ],
   "source": [
    "x = torch.tensor([5.5, 3])\n",
    "\n",
    "print(x)"
   ]
  },
  {
   "cell_type": "markdown",
   "metadata": {},
   "source": [
    "## 5.基于现有张量创建张量"
   ]
  },
  {
   "cell_type": "code",
   "execution_count": 16,
   "metadata": {},
   "outputs": [
    {
     "name": "stdout",
     "output_type": "stream",
     "text": [
      "tensor([[1., 1., 1.],\n",
      "        [1., 1., 1.],\n",
      "        [1., 1., 1.],\n",
      "        [1., 1., 1.],\n",
      "        [1., 1., 1.]], dtype=torch.float64)\n",
      "tensor([[ 1.5487, -0.9081,  0.9195],\n",
      "        [-1.0215,  1.9570,  1.0485],\n",
      "        [-1.5312, -0.0608, -0.2521],\n",
      "        [-1.0825,  0.9212,  0.7229],\n",
      "        [-2.4675, -1.4899,  0.5300]])\n"
     ]
    }
   ],
   "source": [
    "x = x.new_ones(5, 3, dtype=torch.double)\n",
    "\n",
    "print(x)\n",
    "\n",
    "x = torch.randn_like(x, dtype=torch.float)\n",
    "\n",
    "print(x)"
   ]
  },
  {
   "cell_type": "markdown",
   "metadata": {},
   "source": [
    "## 6.得到x的形状"
   ]
  },
  {
   "cell_type": "code",
   "execution_count": 17,
   "metadata": {},
   "outputs": [
    {
     "name": "stdout",
     "output_type": "stream",
     "text": [
      "torch.Size([5, 3])\n"
     ]
    }
   ],
   "source": [
    "print(x.size())"
   ]
  },
  {
   "cell_type": "markdown",
   "metadata": {},
   "source": [
    "## 7.加法-语法1"
   ]
  },
  {
   "cell_type": "code",
   "execution_count": 18,
   "metadata": {},
   "outputs": [
    {
     "name": "stdout",
     "output_type": "stream",
     "text": [
      "tensor([[ 1.8870, -0.1792,  1.8878],\n",
      "        [-0.7512,  2.0458,  1.7743],\n",
      "        [-1.3378,  0.6089, -0.1876],\n",
      "        [-0.9710,  1.4503,  0.8310],\n",
      "        [-2.4506, -1.3367,  1.2773]])\n"
     ]
    }
   ],
   "source": [
    "y = torch.rand(5, 3)\n",
    "\n",
    "print(x + y)"
   ]
  },
  {
   "cell_type": "markdown",
   "metadata": {},
   "source": [
    "## 8.加法-语法2"
   ]
  },
  {
   "cell_type": "code",
   "execution_count": 20,
   "metadata": {},
   "outputs": [
    {
     "name": "stdout",
     "output_type": "stream",
     "text": [
      "tensor([[ 1.8870, -0.1792,  1.8878],\n",
      "        [-0.7512,  2.0458,  1.7743],\n",
      "        [-1.3378,  0.6089, -0.1876],\n",
      "        [-0.9710,  1.4503,  0.8310],\n",
      "        [-2.4506, -1.3367,  1.2773]])\n"
     ]
    }
   ],
   "source": [
    "print(torch.add(x, y))"
   ]
  },
  {
   "cell_type": "markdown",
   "metadata": {},
   "source": [
    "## 9.加法:提供输出张量作为参数"
   ]
  },
  {
   "cell_type": "code",
   "execution_count": 19,
   "metadata": {},
   "outputs": [
    {
     "name": "stdout",
     "output_type": "stream",
     "text": [
      "tensor([[ 1.8870, -0.1792,  1.8878],\n",
      "        [-0.7512,  2.0458,  1.7743],\n",
      "        [-1.3378,  0.6089, -0.1876],\n",
      "        [-0.9710,  1.4503,  0.8310],\n",
      "        [-2.4506, -1.3367,  1.2773]])\n"
     ]
    }
   ],
   "source": [
    "result = torch.empty(5, 3)\n",
    "torch.add(x, y, out=result)\n",
    "print(result)"
   ]
  },
  {
   "cell_type": "markdown",
   "metadata": {},
   "source": [
    "## 10.加法到位"
   ]
  },
  {
   "cell_type": "code",
   "execution_count": 21,
   "metadata": {},
   "outputs": [
    {
     "name": "stdout",
     "output_type": "stream",
     "text": [
      "tensor([[ 1.8870, -0.1792,  1.8878],\n",
      "        [-0.7512,  2.0458,  1.7743],\n",
      "        [-1.3378,  0.6089, -0.1876],\n",
      "        [-0.9710,  1.4503,  0.8310],\n",
      "        [-2.4506, -1.3367,  1.2773]])\n"
     ]
    }
   ],
   "source": [
    "# adds x to y\n",
    "y.add_(x)\n",
    "print(y)"
   ]
  },
  {
   "cell_type": "markdown",
   "metadata": {},
   "source": [
    "## 11.调整张量的大小"
   ]
  },
  {
   "cell_type": "code",
   "execution_count": 24,
   "metadata": {},
   "outputs": [
    {
     "name": "stdout",
     "output_type": "stream",
     "text": [
      "torch.Size([4, 4]) torch.Size([16]) torch.Size([2, 8])\n",
      "tensor([[-0.9733,  1.0686, -0.8323,  1.8342],\n",
      "        [-2.6640, -0.3427, -1.0638,  2.1748],\n",
      "        [-0.4625, -1.5329,  0.7555, -0.1905],\n",
      "        [-0.3171,  0.0836,  0.4390, -1.7839]])\n",
      "tensor([-0.9733,  1.0686, -0.8323,  1.8342, -2.6640, -0.3427, -1.0638,  2.1748,\n",
      "        -0.4625, -1.5329,  0.7555, -0.1905, -0.3171,  0.0836,  0.4390, -1.7839])\n",
      "tensor([[-0.9733,  1.0686, -0.8323,  1.8342, -2.6640, -0.3427, -1.0638,  2.1748],\n",
      "        [-0.4625, -1.5329,  0.7555, -0.1905, -0.3171,  0.0836,  0.4390, -1.7839]])\n"
     ]
    }
   ],
   "source": [
    "x = torch.randn(4, 4)\n",
    "\n",
    "y = x.view(16)\n",
    "\n",
    "z = x.view(-1, 8)\n",
    "\n",
    "print(x.size(), y.size(),z.size())\n",
    "\n",
    "print(x)\n",
    "\n",
    "print(y)\n",
    "\n",
    "print(z)"
   ]
  },
  {
   "cell_type": "markdown",
   "metadata": {},
   "source": [
    "## 12.item()获取张量的数值"
   ]
  },
  {
   "cell_type": "code",
   "execution_count": 26,
   "metadata": {},
   "outputs": [
    {
     "name": "stdout",
     "output_type": "stream",
     "text": [
      "tensor([-0.5211])\n",
      "-0.5211282968521118\n"
     ]
    }
   ],
   "source": [
    "x = torch.randn(1)\n",
    "\n",
    "print(x)\n",
    "\n",
    "print(x.item())"
   ]
  },
  {
   "cell_type": "markdown",
   "metadata": {},
   "source": [
    "## 13.将torch的tensor转化为numpy的array"
   ]
  },
  {
   "cell_type": "code",
   "execution_count": 28,
   "metadata": {},
   "outputs": [
    {
     "name": "stdout",
     "output_type": "stream",
     "text": [
      "tensor([1., 1., 1., 1., 1.])\n"
     ]
    }
   ],
   "source": [
    "a = torch.ones(5)\n",
    "\n",
    "print(a)"
   ]
  },
  {
   "cell_type": "code",
   "execution_count": 30,
   "metadata": {},
   "outputs": [
    {
     "name": "stdout",
     "output_type": "stream",
     "text": [
      "[1. 1. 1. 1. 1.]\n"
     ]
    }
   ],
   "source": [
    "b = a.numpy()\n",
    "\n",
    "print(b)"
   ]
  },
  {
   "cell_type": "code",
   "execution_count": 32,
   "metadata": {},
   "outputs": [
    {
     "name": "stdout",
     "output_type": "stream",
     "text": [
      "tensor([3., 3., 3., 3., 3.])\n",
      "[3. 3. 3. 3. 3.]\n"
     ]
    }
   ],
   "source": [
    "a.add_(1)\n",
    "\n",
    "print(a)\n",
    "\n",
    "print(b)"
   ]
  },
  {
   "cell_type": "markdown",
   "metadata": {},
   "source": [
    "## 14.将numpy的array转化为torch的tensor"
   ]
  },
  {
   "cell_type": "code",
   "execution_count": 34,
   "metadata": {},
   "outputs": [
    {
     "name": "stdout",
     "output_type": "stream",
     "text": [
      "[2. 2. 2. 2. 2.]\n",
      "tensor([2., 2., 2., 2., 2.], dtype=torch.float64)\n"
     ]
    }
   ],
   "source": [
    "import numpy as np\n",
    "\n",
    "a = np.ones(5)\n",
    "\n",
    "b = torch.from_numpy(a)\n",
    "\n",
    "np.add(a, 1, out=a)\n",
    "\n",
    "print(a)\n",
    "\n",
    "print(b)"
   ]
  },
  {
   "cell_type": "markdown",
   "metadata": {},
   "source": [
    "## 15.CUDA Tensors"
   ]
  },
  {
   "cell_type": "code",
   "execution_count": 35,
   "metadata": {},
   "outputs": [
    {
     "name": "stdout",
     "output_type": "stream",
     "text": [
      "tensor([0.4789], device='cuda:0')\n",
      "tensor([0.4789], dtype=torch.float64)\n"
     ]
    }
   ],
   "source": [
    "if torch.cuda.is_available():\n",
    "    \n",
    "    device = torch.device(\"cuda\")\n",
    "    \n",
    "    y = torch.ones_like(x, device=device)\n",
    "    \n",
    "    x = x.to(device)\n",
    "    \n",
    "    z = x + y\n",
    "    print(z)\n",
    "    \n",
    "    print(z.to(\"cpu\", torch.double))"
   ]
  }
 ],
 "metadata": {
  "kernelspec": {
   "display_name": "Python 3",
   "language": "python",
   "name": "python3"
  },
  "language_info": {
   "codemirror_mode": {
    "name": "ipython",
    "version": 3
   },
   "file_extension": ".py",
   "mimetype": "text/x-python",
   "name": "python",
   "nbconvert_exporter": "python",
   "pygments_lexer": "ipython3",
   "version": "3.6.5"
  }
 },
 "nbformat": 4,
 "nbformat_minor": 2
}
